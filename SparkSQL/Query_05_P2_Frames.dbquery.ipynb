{
 "cells": [
  {
   "cell_type": "code",
   "execution_count": 0,
   "metadata": {
    "application/vnd.databricks.v1+cell": {
     "cellMetadata": {},
     "inputWidgets": {},
     "nuid": "ac517f7e-d1a3-4b3e-91d0-a81d83163f16",
     "showTitle": false,
     "tableResultSettingsMap": {},
     "title": ""
    }
   },
   "outputs": [],
   "source": [
    "-- running Total_Sum / cumulative sum\n",
    "SELECT *,\n",
    "    SUM(price_per_unit) OVER (order by price_per_unit) AS RUNNING_TOTAL\n",
    "FROM\n",
    "    sparksql_cata.sparksql_schema.orders_ext_table;\n",
    "\n",
    "\n",
    "-- running_total alternative approach\n",
    "SELECT *,\n",
    "    SUM(price_per_unit) OVER (order by price_per_unit rows between unbounded preceding and current row) AS RUNNING_TOTAL_2,\n",
    "FROM\n",
    "    sparksql_cata.sparksql_schema.orders_ext_table;\n",
    "\n",
    "\n",
    "-- Just Total_SUm in each row\n",
    "SELECT *,\n",
    "    SUM(price_per_unit) OVER (order by price_per_unit DESC rows between unbounded preceding and unbounded following) AS TOTAL\n",
    "FROM\n",
    "    sparksql_cata.sparksql_schema.orders_ext_table;\n",
    "-- unbounded preceding -> previous value & unbounded follwoing -> next value\n"
   ]
  }
 ],
 "metadata": {
  "application/vnd.databricks.v1+notebook": {
   "computePreferences": null,
   "dashboards": [],
   "environmentMetadata": null,
   "inputWidgetPreferences": null,
   "language": "sql",
   "notebookMetadata": {
    "sqlQueryOptions": {
     "applyAutoLimit": true,
     "catalog": "databricksforsparksql",
     "schema": "default"
    }
   },
   "notebookName": "Query_05_P2_Frames.dbquery.ipynb",
   "widgets": {}
  },
  "language_info": {
   "name": "sql"
  }
 },
 "nbformat": 4,
 "nbformat_minor": 0
}
