{
 "cells": [
  {
   "cell_type": "code",
   "execution_count": 0,
   "metadata": {
    "application/vnd.databricks.v1+cell": {
     "cellMetadata": {},
     "inputWidgets": {},
     "nuid": "1f5c8943-57ff-450e-94c8-82c41cea32b9",
     "showTitle": false,
     "tableResultSettingsMap": {},
     "title": ""
    }
   },
   "outputs": [],
   "source": [
    "select *\n",
    "from sparksql_cata.sparksql_schema.orders_ext_table;\n",
    "-- CTEs (Common Table Expressions are vice versa of Sub_Queries)\n",
    "-- CTEs Syntax:\n",
    "\n",
    "WITH table_01 AS\n",
    "(\n",
    "SELECT *,\n",
    "        CASE \n",
    "            WHEN (payment_method LIKE \"%Card%\") AND (order_status IN (\"Returned\",\"Cancelled\")) THEN \"Card\"\n",
    "            WHEN (payment_method IN (\"PayPal\",\"UPI\")) AND (order_status IN (\"Returned\",\"Cancelled\")) THEN \"Bank_Transaction\" \n",
    "            ELSE \"NILL\" \n",
    "        END AS Computed_Payment_Method\n",
    "FROM\n",
    "    sparksql_cata.sparksql_schema.orders_ext_table\n",
    ")\n",
    "SELECT *\n",
    "FROM table_01\n",
    "where Computed_Payment_Method = \"Card\";\n",
    "\n",
    "\n",
    "-- Hierarichal Common Table Expressions CTEs\n",
    "WITH table_02 \n",
    "(\n",
    "WITH table_01 AS\n",
    "(\n",
    "SELECT *,\n",
    "        CASE \n",
    "            WHEN (payment_method LIKE \"%Card%\") AND (order_status IN (\"Returned\",\"Cancelled\")) THEN \"Card\"\n",
    "            WHEN (payment_method IN (\"PayPal\",\"UPI\")) AND (order_status IN (\"Returned\",\"Cancelled\")) THEN \"Bank_Transaction\" \n",
    "            ELSE \"NILL\" \n",
    "        END AS Computed_Payment_Method\n",
    "FROM\n",
    "    sparksql_cata.sparksql_schema.orders_ext_table\n",
    ")\n",
    "SELECT *\n",
    "FROM table_01\n",
    "where Computed_Payment_Method = \"Card\"\n",
    ")\n",
    "\n",
    "select *\n",
    "FROM table_02\n",
    "where order_status = \"Returned\"; \n",
    "\n",
    "\n",
    "\n",
    "\n",
    "\n",
    "\n",
    "\n",
    "\n",
    "\n",
    "\n",
    "\n",
    "\n",
    "\n",
    "\n",
    "\n",
    "\n",
    "\n",
    "\n",
    "\n",
    "\n",
    "\n",
    "\n",
    "\n",
    "\n",
    "\n"
   ]
  }
 ],
 "metadata": {
  "application/vnd.databricks.v1+notebook": {
   "computePreferences": null,
   "dashboards": [],
   "environmentMetadata": null,
   "inputWidgetPreferences": null,
   "language": "sql",
   "notebookMetadata": {
    "sqlQueryOptions": {
     "applyAutoLimit": true,
     "catalog": "databricksforsparksql",
     "schema": "default"
    }
   },
   "notebookName": "Query_04_CTEs.dbquery.ipynb",
   "widgets": {}
  },
  "language_info": {
   "name": "sql"
  }
 },
 "nbformat": 4,
 "nbformat_minor": 0
}
