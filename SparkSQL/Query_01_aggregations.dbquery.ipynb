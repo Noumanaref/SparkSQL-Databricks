{
 "cells": [
  {
   "cell_type": "code",
   "execution_count": 0,
   "metadata": {
    "application/vnd.databricks.v1+cell": {
     "cellMetadata": {},
     "inputWidgets": {},
     "nuid": "881accd9-ff41-46a4-9aef-0d7434beb1ec",
     "showTitle": false,
     "tableResultSettingsMap": {},
     "title": ""
    }
   },
   "outputs": [],
   "source": [
    "-- find no.of orders grouped by each product category for each month\n",
    "\n",
    "-- SELECT \n",
    "--   month(order_date) as order_month,\n",
    "--   product_category, \n",
    "--   count(order_id) as total_orders\n",
    "-- FROM\n",
    "--   sparksql_cata.sparksql_schema.orders_ext_table\n",
    "-- WHERE\n",
    "--   product_category = \"Home Decor\"\n",
    "-- GROUP BY\n",
    "--   month(order_date),product_category\n",
    "-- ORDER BY\n",
    "--   total_orders DESC , order_month ASC\n",
    "\n",
    " \n",
    "  -- By using SubQuery\n",
    "\n",
    "SELECT * \n",
    "FROM\n",
    "(\n",
    "SELECT \n",
    "  month(order_date) as order_month,\n",
    "  product_category, \n",
    "  count(order_id) as total_orders\n",
    "FROM\n",
    "  sparksql_cata.sparksql_schema.orders_ext_table\n",
    "WHERE\n",
    "  product_category = \"Home Decor\"\n",
    "GROUP BY\n",
    "  month(order_date),product_category\n",
    "ORDER BY\n",
    "  total_orders DESC , order_month ASC\n",
    ") AS subquery\n",
    "WHERE\n",
    "product_category = \"Home Decor\";"
   ]
  }
 ],
 "metadata": {
  "application/vnd.databricks.v1+notebook": {
   "computePreferences": null,
   "dashboards": [],
   "environmentMetadata": null,
   "inputWidgetPreferences": null,
   "language": "sql",
   "notebookMetadata": {
    "sqlQueryOptions": {
     "applyAutoLimit": true,
     "catalog": "sparksql_cata",
     "schema": "sparksql_schema"
    }
   },
   "notebookName": "Query_01_aggregations.dbquery.ipynb",
   "widgets": {}
  },
  "language_info": {
   "name": "sql"
  }
 },
 "nbformat": 4,
 "nbformat_minor": 0
}
