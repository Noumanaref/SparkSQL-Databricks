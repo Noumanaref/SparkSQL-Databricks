{
 "cells": [
  {
   "cell_type": "code",
   "execution_count": 0,
   "metadata": {
    "application/vnd.databricks.v1+cell": {
     "cellMetadata": {},
     "inputWidgets": {},
     "nuid": "ca9f5ba9-7974-403e-9c26-12d88cfcc168",
     "showTitle": false,
     "tableResultSettingsMap": {},
     "title": ""
    }
   },
   "outputs": [],
   "source": [
    "select product_category, price_per_unit,\r\n",
    "    row_number() OVER (partition by product_category order by price_per_unit DESC) AS Rank\r\n",
    "\r\n",
    "from\r\n",
    "    sparksql_cata.sparksql_schema.orders_ext_table;\r\n"
   ]
  }
 ],
 "metadata": {
  "application/vnd.databricks.v1+notebook": {
   "computePreferences": null,
   "dashboards": [],
   "environmentMetadata": null,
   "inputWidgetPreferences": null,
   "language": "sql",
   "notebookMetadata": {
    "sqlQueryOptions": {
     "applyAutoLimit": true,
     "catalog": "databricksforsparksql",
     "schema": "default"
    }
   },
   "notebookName": "Query_05_Window_Functions.dbquery.ipynb",
   "widgets": {}
  },
  "language_info": {
   "name": "sql"
  }
 },
 "nbformat": 4,
 "nbformat_minor": 0
}
