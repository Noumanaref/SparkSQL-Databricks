{
 "cells": [
  {
   "cell_type": "code",
   "execution_count": 0,
   "metadata": {
    "application/vnd.databricks.v1+cell": {
     "cellMetadata": {},
     "inputWidgets": {},
     "nuid": "cd7f96ea-b40b-42da-8e59-c0c6e72c8d73",
     "showTitle": false,
     "tableResultSettingsMap": {},
     "title": ""
    }
   },
   "outputs": [],
   "source": [
    "-- Simply we can save the result in any variable and treat it as table.\n",
    "-- Also Known as hierrarichal Subquery.\n",
    "SELECT *\n",
    "FROM\n",
    "(\n",
    "SELECT * \n",
    "FROM\n",
    "(\n",
    "SELECT \n",
    "  month(order_date) as order_month,\n",
    "  product_category, \n",
    "  count(order_id) as total_orders\n",
    "FROM\n",
    "  sparksql_cata.sparksql_schema.orders_ext_table\n",
    "WHERE\n",
    "  product_category = \"Home Decor\"\n",
    "GROUP BY\n",
    "  month(order_date),product_category\n",
    "ORDER BY\n",
    "  total_orders DESC , order_month ASC\n",
    ") AS subquery\n",
    "WHERE\n",
    "product_category = \"Home Decor\"\n",
    ") AS sub_query_02\n",
    "WHERE\n",
    "order_month = 5;"
   ]
  }
 ],
 "metadata": {
  "application/vnd.databricks.v1+notebook": {
   "computePreferences": null,
   "dashboards": [],
   "environmentMetadata": null,
   "inputWidgetPreferences": null,
   "language": "sql",
   "notebookMetadata": {
    "sqlQueryOptions": {
     "applyAutoLimit": true,
     "catalog": "databricksforsparksql",
     "schema": "default"
    }
   },
   "notebookName": "Query_02_subqueries.dbquery.ipynb",
   "widgets": {}
  },
  "language_info": {
   "name": "sql"
  }
 },
 "nbformat": 4,
 "nbformat_minor": 0
}
