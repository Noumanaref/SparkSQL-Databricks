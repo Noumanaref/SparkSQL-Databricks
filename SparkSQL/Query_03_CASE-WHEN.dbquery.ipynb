{
 "cells": [
  {
   "cell_type": "code",
   "execution_count": 0,
   "metadata": {
    "application/vnd.databricks.v1+cell": {
     "cellMetadata": {},
     "inputWidgets": {},
     "nuid": "1c73700b-55fc-4845-a3a1-ea63233a989a",
     "showTitle": false,
     "tableResultSettingsMap": {},
     "title": ""
    }
   },
   "outputs": [],
   "source": [
    "-- CASE WHEN condition\n",
    "-- We are fetching the details of cancelled orders:\n",
    "--       If any payment done by credit/debit card then it is known as card and if done through any other mean then known as bank_transaction.\n",
    "--       we also need to mainatin the status of orders -- > cancelled , returned Orders\n",
    "SELECT *,\n",
    "        CASE \n",
    "            WHEN (payment_method LIKE \"%Card%\") AND (order_status IN (\"Returned\",\"Cancelled\")) THEN \"Card\"\n",
    "            WHEN (payment_method IN (\"PayPal\",\"UPI\")) AND (order_status IN (\"Returned\",\"Cancelled\")) THEN \"Bank_Transaction\" \n",
    "            ELSE \"NILL\" \n",
    "        END AS Payment_Method\n",
    "FROM\n",
    "    sparksql_cata.sparksql_schema.orders_ext_table;\n",
    "\n",
    "\n"
   ]
  }
 ],
 "metadata": {
  "application/vnd.databricks.v1+notebook": {
   "computePreferences": null,
   "dashboards": [],
   "environmentMetadata": null,
   "inputWidgetPreferences": null,
   "language": "sql",
   "notebookMetadata": {
    "sqlQueryOptions": {
     "applyAutoLimit": true,
     "catalog": "databricksforsparksql",
     "schema": "default"
    }
   },
   "notebookName": "Query_03_CASE-WHEN.dbquery.ipynb",
   "widgets": {}
  },
  "language_info": {
   "name": "sql"
  }
 },
 "nbformat": 4,
 "nbformat_minor": 0
}
