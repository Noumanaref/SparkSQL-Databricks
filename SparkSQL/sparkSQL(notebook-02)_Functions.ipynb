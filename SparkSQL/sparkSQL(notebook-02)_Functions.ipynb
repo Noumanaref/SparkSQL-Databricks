{
 "cells": [
  {
   "cell_type": "markdown",
   "metadata": {
    "application/vnd.databricks.v1+cell": {
     "cellMetadata": {},
     "inputWidgets": {},
     "nuid": "bd031e10-13a1-4c7d-bc6f-ba8ae8dd0774",
     "showTitle": false,
     "tableResultSettingsMap": {},
     "title": ""
    }
   },
   "source": [
    "### **Functions**"
   ]
  },
  {
   "cell_type": "markdown",
   "metadata": {
    "application/vnd.databricks.v1+cell": {
     "cellMetadata": {},
     "inputWidgets": {},
     "nuid": "ed08bd8a-5faf-4a67-9136-02fc15eecadb",
     "showTitle": false,
     "tableResultSettingsMap": {},
     "title": ""
    }
   },
   "source": [
    "#**UserDefined ScalarFunctions**"
   ]
  },
  {
   "cell_type": "code",
   "execution_count": 0,
   "metadata": {
    "application/vnd.databricks.v1+cell": {
     "cellMetadata": {
      "byteLimit": 2048000,
      "rowLimit": 10000
     },
     "inputWidgets": {},
     "nuid": "91611b3b-56b1-484f-a610-5e5b73f6cf50",
     "showTitle": false,
     "tableResultSettingsMap": {},
     "title": ""
    }
   },
   "outputs": [],
   "source": [
    "-- UserDefined ScalarFunctions , UserDefined TableFunctions.\n",
    "-- UserDefined ScalarFunctions:\n",
    "create or replace function sparksql_cata.sparksql_schema.discount(p_price decimal(10,2))\n",
    "returns DECIMAL(10,2)\n",
    "LANGUAGE SQL\n",
    "return p_price * 0.90;"
   ]
  },
  {
   "cell_type": "code",
   "execution_count": 0,
   "metadata": {
    "application/vnd.databricks.v1+cell": {
     "cellMetadata": {
      "byteLimit": 2048000,
      "rowLimit": 10000
     },
     "inputWidgets": {},
     "nuid": "9e744976-a152-48dd-b38b-0cace4c97773",
     "showTitle": false,
     "tableResultSettingsMap": {
      "0": {
       "dataGridStateBlob": "{\"version\":1,\"tableState\":{\"columnPinning\":{\"left\":[\"#row_number#\"],\"right\":[]},\"columnSizing\":{},\"columnVisibility\":{}},\"settings\":{\"columns\":{}},\"syncTimestamp\":1752596092396}",
       "filterBlob": null,
       "queryPlanFiltersBlob": null,
       "tableResultIndex": 0
      }
     },
     "title": ""
    }
   },
   "outputs": [],
   "source": [
    "select price_per_unit , sparksql_cata.sparksql_schema.discount(price_per_unit) AS Discounted_Price FROM sparksql_cata.sparksql_schema.orders_ext_table;"
   ]
  },
  {
   "cell_type": "code",
   "execution_count": 0,
   "metadata": {
    "application/vnd.databricks.v1+cell": {
     "cellMetadata": {
      "byteLimit": 2048000,
      "rowLimit": 10000
     },
     "inputWidgets": {},
     "nuid": "2a661a37-a660-4f00-b424-bbd0a9ecdbc4",
     "showTitle": false,
     "tableResultSettingsMap": {},
     "title": ""
    }
   },
   "outputs": [],
   "source": [
    "select *\n",
    "from sparksql_cata.sparksql_schema.orders_ext_table;"
   ]
  },
  {
   "cell_type": "code",
   "execution_count": 0,
   "metadata": {
    "application/vnd.databricks.v1+cell": {
     "cellMetadata": {
      "byteLimit": 2048000,
      "rowLimit": 10000
     },
     "inputWidgets": {},
     "nuid": "a94036a6-f0ca-48c6-84b9-7af7717f3c36",
     "showTitle": false,
     "tableResultSettingsMap": {},
     "title": ""
    }
   },
   "outputs": [],
   "source": [
    "create or replace function sparksql_cata.sparksql_schema.track_order_details(q_quantity INT, p_price decimal(10,2))\n",
    "returns decimal(10,2)\n",
    "LANGUAGE SQL\n",
    "return CASE\n",
    "            WHEN (q_quantity > 3) THEN (p_price - p_price * 0.20)\n",
    "            ELSE p_price\n",
    "          END;"
   ]
  },
  {
   "cell_type": "code",
   "execution_count": 0,
   "metadata": {
    "application/vnd.databricks.v1+cell": {
     "cellMetadata": {
      "byteLimit": 2048000,
      "rowLimit": 10000
     },
     "inputWidgets": {},
     "nuid": "d401332f-7ffe-47e7-b1f8-45556147582d",
     "showTitle": false,
     "tableResultSettingsMap": {},
     "title": ""
    }
   },
   "outputs": [],
   "source": [
    "select user_id ,product_category ,price_per_unit , quantity,\n",
    "sparksql_cata.sparksql_schema.track_order_details(quantity , price_per_unit) AS Discounted_Price\n",
    "from sparksql_cata.sparksql_schema.orders_ext_table;"
   ]
  },
  {
   "cell_type": "markdown",
   "metadata": {
    "application/vnd.databricks.v1+cell": {
     "cellMetadata": {},
     "inputWidgets": {},
     "nuid": "c50bbe67-61cb-478e-b647-5aafeef5e0bd",
     "showTitle": false,
     "tableResultSettingsMap": {},
     "title": ""
    }
   },
   "source": [
    "##**UserDefined TableFunctions - UDTFs**"
   ]
  },
  {
   "cell_type": "code",
   "execution_count": 0,
   "metadata": {
    "application/vnd.databricks.v1+cell": {
     "cellMetadata": {
      "byteLimit": 2048000,
      "rowLimit": 10000
     },
     "inputWidgets": {},
     "nuid": "c3b226d0-3c11-43ae-a32c-33b7826109c6",
     "showTitle": false,
     "tableResultSettingsMap": {},
     "title": ""
    }
   },
   "outputs": [],
   "source": [
    "-- Basically TableFunction returns table Not a Single Valued dataitem.\n",
    "create or replace function sparksql_cata.sparksql_schema.category_func(c_category STRING)\n",
    "returns TABLE\n",
    "LANGUAGE SQL\n",
    "RETURN\n",
    "(SELECT * from sparksql_cata.sparksql_schema.orders_ext_table WHERE product_category = c_category)\n"
   ]
  },
  {
   "cell_type": "code",
   "execution_count": 0,
   "metadata": {
    "application/vnd.databricks.v1+cell": {
     "cellMetadata": {
      "byteLimit": 2048000,
      "rowLimit": 10000
     },
     "inputWidgets": {},
     "nuid": "cf7b8f98-64d7-429b-947d-a45865fe0e8f",
     "showTitle": true,
     "tableResultSettingsMap": {},
     "title": "Use Case"
    }
   },
   "outputs": [],
   "source": [
    "select *\n",
    "from sparksql_cata.sparksql_schema.category_func(\"Home Decor\");"
   ]
  },
  {
   "cell_type": "code",
   "execution_count": 0,
   "metadata": {
    "application/vnd.databricks.v1+cell": {
     "cellMetadata": {},
     "inputWidgets": {},
     "nuid": "fab51dee-997e-434b-b31a-538c0a36e143",
     "showTitle": false,
     "tableResultSettingsMap": {},
     "title": ""
    }
   },
   "outputs": [],
   "source": []
  }
 ],
 "metadata": {
  "application/vnd.databricks.v1+notebook": {
   "computePreferences": null,
   "dashboards": [],
   "environmentMetadata": {
    "base_environment": "",
    "environment_version": "2"
   },
   "inputWidgetPreferences": null,
   "language": "sql",
   "notebookMetadata": {
    "pythonIndentUnit": 4
   },
   "notebookName": "sparkSQL(notebook-02)_Functions",
   "widgets": {}
  },
  "language_info": {
   "name": "sql"
  }
 },
 "nbformat": 4,
 "nbformat_minor": 0
}
