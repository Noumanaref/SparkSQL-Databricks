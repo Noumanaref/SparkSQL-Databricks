{
 "cells": [
  {
   "cell_type": "markdown",
   "metadata": {
    "application/vnd.databricks.v1+cell": {
     "cellMetadata": {},
     "inputWidgets": {},
     "nuid": "23f51130-f2c2-43fe-bad2-f731652bc4de",
     "showTitle": false,
     "tableResultSettingsMap": {},
     "title": ""
    }
   },
   "source": [
    "## **Dynamic-DataMasking**\n"
   ]
  },
  {
   "cell_type": "markdown",
   "metadata": {
    "application/vnd.databricks.v1+cell": {
     "cellMetadata": {},
     "inputWidgets": {},
     "nuid": "3f8bcd3c-4685-43e7-bffb-7b901569996b",
     "showTitle": false,
     "tableResultSettingsMap": {},
     "title": ""
    }
   },
   "source": [
    "#**_Column Level Security_**"
   ]
  },
  {
   "cell_type": "code",
   "execution_count": 0,
   "metadata": {
    "application/vnd.databricks.v1+cell": {
     "cellMetadata": {
      "byteLimit": 2048000,
      "rowLimit": 10000
     },
     "inputWidgets": {},
     "nuid": "da2c13a9-d31a-49a2-9cf5-9057a5ab8b25",
     "showTitle": false,
     "tableResultSettingsMap": {},
     "title": ""
    }
   },
   "outputs": [],
   "source": [
    "select *\n",
    "from sparksql_cata.sparksql_schema.orders_ext_table;\n",
    "--Here in this below data ,[[ user_id ]] could be the PII(personally identifyable identity) that should not be revealed\n",
    "-- to other team members , this sensitive data should be accessible only for you(admin).\n",
    "-- To implement this data governence we need to understand about DataMasking.\n",
    "-- What we will do:\n",
    "\n",
    "--so we will create a function of DataMasking and implement that function on our data and then whenever someone will try to access the data , it will check authorization of that person if it will be admin data eill be accessed otherwise request will be rejected."
   ]
  },
  {
   "cell_type": "markdown",
   "metadata": {
    "application/vnd.databricks.v1+cell": {
     "cellMetadata": {},
     "inputWidgets": {},
     "nuid": "2a5cb570-0a84-4cf9-9379-5984c396f793",
     "showTitle": false,
     "tableResultSettingsMap": {},
     "title": ""
    }
   },
   "source": [
    "# **Create Mask Function**"
   ]
  },
  {
   "cell_type": "code",
   "execution_count": 0,
   "metadata": {
    "application/vnd.databricks.v1+cell": {
     "cellMetadata": {
      "byteLimit": 2048000,
      "rowLimit": 10000
     },
     "inputWidgets": {},
     "nuid": "76196b37-3665-4528-b380-6f9294ded387",
     "showTitle": false,
     "tableResultSettingsMap": {},
     "title": ""
    }
   },
   "outputs": [],
   "source": [
    "create or replace function sparksql_cata.sparksql_schema.dynamic_mask(u_user_id STRING)\n",
    "return\n",
    "case when is_account_group_member('A_Admin') then u_user_id\n",
    "ELSE \"****--****\" \n",
    "END;"
   ]
  },
  {
   "cell_type": "markdown",
   "metadata": {
    "application/vnd.databricks.v1+cell": {
     "cellMetadata": {},
     "inputWidgets": {},
     "nuid": "ebab903c-0311-4961-a3d6-3eb9dc549813",
     "showTitle": false,
     "tableResultSettingsMap": {},
     "title": ""
    }
   },
   "source": [
    "# **Applying Dynamic Masking on Coulumn - user_id**"
   ]
  },
  {
   "cell_type": "code",
   "execution_count": 0,
   "metadata": {
    "application/vnd.databricks.v1+cell": {
     "cellMetadata": {
      "byteLimit": 2048000,
      "rowLimit": 10000
     },
     "inputWidgets": {},
     "nuid": "6f42c780-96bf-4794-aeaa-aa693d9bd212",
     "showTitle": false,
     "tableResultSettingsMap": {},
     "title": ""
    }
   },
   "outputs": [],
   "source": [
    "alter table sparksql_cata.sparksql_schema.orders_ext_table\n",
    "alter column user_id set mask sparksql_cata.sparksql_schema.dynamic_mask;\n",
    "\n",
    "-- Now anyone other than admin cannot access this coulumn\n",
    "-- i am currently the admin of whole metastore so i will nit be able to test this."
   ]
  },
  {
   "cell_type": "markdown",
   "metadata": {
    "application/vnd.databricks.v1+cell": {
     "cellMetadata": {},
     "inputWidgets": {},
     "nuid": "b499adb0-b91d-4992-85e0-df4bf82bf274",
     "showTitle": false,
     "tableResultSettingsMap": {},
     "title": ""
    }
   },
   "source": [
    "# **_Row Level Security_**"
   ]
  },
  {
   "cell_type": "code",
   "execution_count": 0,
   "metadata": {
    "application/vnd.databricks.v1+cell": {
     "cellMetadata": {
      "byteLimit": 2048000,
      "rowLimit": 10000
     },
     "inputWidgets": {},
     "nuid": "8bb7a986-edd2-4828-9508-8ea00d409955",
     "showTitle": false,
     "tableResultSettingsMap": {},
     "title": ""
    }
   },
   "outputs": [],
   "source": [
    "select *\n",
    "from sparksql_cata.sparksql_schema.orders_ext_table;\n",
    "\n",
    "-- Row Level Security:\n",
    "-- Lets suppose there are two teams A & B , Team_A needs to take care about the payment method credit/debit cards\n",
    "-- and Team_B to paypal/UPI.  \n",
    "-- here important thing is that A should not have access to B's data and vice versa.\n",
    "-- To implement these type of security governence we need row level security."
   ]
  },
  {
   "cell_type": "code",
   "execution_count": 0,
   "metadata": {
    "application/vnd.databricks.v1+cell": {
     "cellMetadata": {},
     "inputWidgets": {},
     "nuid": "dfe7644d-33d5-46ed-a451-5d160e829d66",
     "showTitle": false,
     "tableResultSettingsMap": {},
     "title": ""
    }
   },
   "outputs": [],
   "source": [
    "-- 🔐 What is Row-Level Security (RLS)?\n",
    "-- RLS controls which rows in a table a user or team can see, based on conditions like role, team, department, etc"
   ]
  },
  {
   "cell_type": "markdown",
   "metadata": {
    "application/vnd.databricks.v1+cell": {
     "cellMetadata": {},
     "inputWidgets": {},
     "nuid": "9c5f186b-d06d-4934-a0b0-e67df51818e8",
     "showTitle": false,
     "tableResultSettingsMap": {},
     "title": ""
    }
   },
   "source": [
    "# **Map Table**"
   ]
  },
  {
   "cell_type": "code",
   "execution_count": 0,
   "metadata": {
    "application/vnd.databricks.v1+cell": {
     "cellMetadata": {
      "byteLimit": 2048000,
      "rowLimit": 10000
     },
     "inputWidgets": {},
     "nuid": "142b6508-5d9d-4e82-8a3f-33339c50b436",
     "showTitle": false,
     "tableResultSettingsMap": {},
     "title": ""
    }
   },
   "outputs": [],
   "source": [
    "-- First we will create the map table\n",
    "\n",
    "create table sparksql_cata.sparksql_schema.map_table \n",
    "(\n",
    "  payment_cateogory STRING,\n",
    "  email STRING\n",
    ")"
   ]
  },
  {
   "cell_type": "code",
   "execution_count": 0,
   "metadata": {
    "application/vnd.databricks.v1+cell": {
     "cellMetadata": {
      "byteLimit": 2048000,
      "rowLimit": 10000
     },
     "inputWidgets": {},
     "nuid": "2f12092b-6960-41c3-8f87-24f08a72bdf9",
     "showTitle": false,
     "tableResultSettingsMap": {},
     "title": ""
    }
   },
   "outputs": [],
   "source": [
    "INSERT INTO sparksql_cata.sparksql_schema.map_table\n",
    "VALUES\n",
    "      ('Credit Card' , 'humayun440@hotmail.com'),\n",
    "      ('Debit Card','humayun440@hotmail.com'),\n",
    "      ('PayPal','nomi5501@hotmail.com'),\n",
    "      ('UPI','nomi5501@hotmail.com');"
   ]
  },
  {
   "cell_type": "markdown",
   "metadata": {
    "application/vnd.databricks.v1+cell": {
     "cellMetadata": {},
     "inputWidgets": {},
     "nuid": "ee0ac2c9-066c-43fb-b250-0530135d8a32",
     "showTitle": false,
     "tableResultSettingsMap": {},
     "title": ""
    }
   },
   "source": [
    "###**Map Table Testing**"
   ]
  },
  {
   "cell_type": "code",
   "execution_count": 0,
   "metadata": {
    "application/vnd.databricks.v1+cell": {
     "cellMetadata": {
      "byteLimit": 2048000,
      "rowLimit": 10000
     },
     "inputWidgets": {},
     "nuid": "074910fb-f0b4-4bc7-a28d-8bca5d810042",
     "showTitle": false,
     "tableResultSettingsMap": {},
     "title": ""
    }
   },
   "outputs": [],
   "source": [
    "select *\n",
    "from sparksql_cata.sparksql_schema.map_table\n",
    "where email = current_user()\n",
    "and payment_cateogory = \"Debit Card\""
   ]
  },
  {
   "cell_type": "markdown",
   "metadata": {
    "application/vnd.databricks.v1+cell": {
     "cellMetadata": {},
     "inputWidgets": {},
     "nuid": "9faf70b8-9fdb-4db5-9c5c-417921467bef",
     "showTitle": false,
     "tableResultSettingsMap": {},
     "title": ""
    }
   },
   "source": [
    "### **Converting Map Table into Boolean**"
   ]
  },
  {
   "cell_type": "code",
   "execution_count": 0,
   "metadata": {
    "application/vnd.databricks.v1+cell": {
     "cellMetadata": {
      "byteLimit": 2048000,
      "rowLimit": 10000
     },
     "inputWidgets": {},
     "nuid": "af4058c6-25d6-4052-ba0e-9b2e1adc3224",
     "showTitle": false,
     "tableResultSettingsMap": {},
     "title": ""
    }
   },
   "outputs": [],
   "source": [
    "SELECT EXISTS\n",
    "(\n",
    "select *\n",
    "from sparksql_cata.sparksql_schema.map_table\n",
    "where email = current_user()\n",
    "and payment_cateogory = 'Debit Card' \n",
    ")"
   ]
  },
  {
   "cell_type": "markdown",
   "metadata": {
    "application/vnd.databricks.v1+cell": {
     "cellMetadata": {},
     "inputWidgets": {},
     "nuid": "bda3fc6e-ddcb-41c3-9692-43fc8cdff12a",
     "showTitle": false,
     "tableResultSettingsMap": {},
     "title": ""
    }
   },
   "source": [
    "### **Converting The Boolean into Function**"
   ]
  },
  {
   "cell_type": "code",
   "execution_count": 0,
   "metadata": {
    "application/vnd.databricks.v1+cell": {
     "cellMetadata": {
      "byteLimit": 2048000,
      "rowLimit": 10000
     },
     "inputWidgets": {},
     "nuid": "6a678ff0-3f2b-42e6-884b-efb2346500c1",
     "showTitle": false,
     "tableResultSettingsMap": {},
     "title": ""
    }
   },
   "outputs": [],
   "source": [
    "create or replace FUNCTION sparksql_cata.sparksql_schema.rowlevel_governence(p_payment_method STRING)\n",
    "RETURNS BOOLEAN\n",
    "LANGUAGE SQL\n",
    "RETURN\n",
    "(\n",
    "   EXISTS\n",
    "  (\n",
    "    select *\n",
    "    from sparksql_cata.sparksql_schema.map_table\n",
    "    where email = current_user()\n",
    "    and payment_cateogory = p_payment_method \n",
    ")\n",
    "\n",
    ")"
   ]
  },
  {
   "cell_type": "markdown",
   "metadata": {
    "application/vnd.databricks.v1+cell": {
     "cellMetadata": {},
     "inputWidgets": {},
     "nuid": "2b3ab7d4-7eca-4d5c-99c0-4344e5f4be1b",
     "showTitle": false,
     "tableResultSettingsMap": {},
     "title": ""
    }
   },
   "source": [
    "### **Applying the Function on Coulumn**"
   ]
  },
  {
   "cell_type": "code",
   "execution_count": 0,
   "metadata": {
    "application/vnd.databricks.v1+cell": {
     "cellMetadata": {
      "byteLimit": 2048000,
      "rowLimit": 10000
     },
     "inputWidgets": {},
     "nuid": "3d09e76c-cd5d-46f1-8374-323cb33113c8",
     "showTitle": false,
     "tableResultSettingsMap": {},
     "title": ""
    }
   },
   "outputs": [],
   "source": [
    "alter table sparksql_cata.sparksql_schema.orders_ext_table\n",
    "SET ROW FILTER sparksql_cata.sparksql_schema.rowlevel_governence ON (payment_method) "
   ]
  },
  {
   "cell_type": "markdown",
   "metadata": {
    "application/vnd.databricks.v1+cell": {
     "cellMetadata": {},
     "inputWidgets": {},
     "nuid": "57e286a7-8f0c-44b0-a3b6-0b1c863660ad",
     "showTitle": false,
     "tableResultSettingsMap": {},
     "title": ""
    }
   },
   "source": [
    "### **Testing_Final_Product**"
   ]
  },
  {
   "cell_type": "code",
   "execution_count": 0,
   "metadata": {
    "application/vnd.databricks.v1+cell": {
     "cellMetadata": {
      "byteLimit": 2048000,
      "rowLimit": 10000
     },
     "inputWidgets": {},
     "nuid": "9df1b22c-e4e3-4338-ab6a-ad55dd3038b6",
     "showTitle": false,
     "tableResultSettingsMap": {},
     "title": ""
    }
   },
   "outputs": [],
   "source": [
    "select *\n",
    "from sparksql_cata.sparksql_schema.orders_ext_table"
   ]
  },
  {
   "cell_type": "code",
   "execution_count": 0,
   "metadata": {
    "application/vnd.databricks.v1+cell": {
     "cellMetadata": {},
     "inputWidgets": {},
     "nuid": "d8bac9a7-523c-4b3d-b03c-7ee779db967b",
     "showTitle": false,
     "tableResultSettingsMap": {},
     "title": ""
    }
   },
   "outputs": [],
   "source": []
  }
 ],
 "metadata": {
  "application/vnd.databricks.v1+notebook": {
   "computePreferences": null,
   "dashboards": [],
   "environmentMetadata": {
    "base_environment": "",
    "environment_version": "2"
   },
   "inputWidgetPreferences": null,
   "language": "sql",
   "notebookMetadata": {
    "pythonIndentUnit": 4
   },
   "notebookName": "sparkSQL(notebook-03)_DynamicDataMasking",
   "widgets": {}
  },
  "language_info": {
   "name": "sql"
  }
 },
 "nbformat": 4,
 "nbformat_minor": 0
}
